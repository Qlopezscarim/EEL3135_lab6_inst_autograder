{
 "cells": [
  {
   "cell_type": "markdown",
   "id": "e87cefcc",
   "metadata": {},
   "source": [
    "# EEL 3135 autograder"
   ]
  },
  {
   "cell_type": "markdown",
   "id": "7f73fed6",
   "metadata": {},
   "source": [
    "Outline of how it works:<br>\n",
    "We make a json file with a pair that has variable names and the data type<br>\n",
    "The variable names will correlate with the names of the file, and the data types...the data types<br>\n",
    "The matlab programmer will then finish the assignment and then assign variables according to our template<br>\n",
    "The template will generate files according to the variables assigned<br>\n",
    "From here our c++ program will read in the JSON file and automatically look for files based off the JSON file<br>\n",
    "If it doesn't find some files it will let the person know<br>\n",
    "Otherwise it compares the inputted files with the name of the file + \"_key\" so comparing x with x_key<br>\n",
    "Every match should higher the grade and vise versa<br>\n",
    "The c++ file should be ran on github actions, meaning that people must push the files to github<br>\n",
    "Could easily encode the x_key file hence why it's done this way, but I don't feel like figuring that out<br>\n"
   ]
  },
  {
   "cell_type": "code",
   "execution_count": null,
   "id": "a9ab0435",
   "metadata": {},
   "outputs": [],
   "source": []
  }
 ],
 "metadata": {
  "kernelspec": {
   "display_name": "Python 3 (ipykernel)",
   "language": "python",
   "name": "python3"
  },
  "language_info": {
   "codemirror_mode": {
    "name": "ipython",
    "version": 3
   },
   "file_extension": ".py",
   "mimetype": "text/x-python",
   "name": "python",
   "nbconvert_exporter": "python",
   "pygments_lexer": "ipython3",
   "version": "3.10.0"
  }
 },
 "nbformat": 4,
 "nbformat_minor": 5
}
